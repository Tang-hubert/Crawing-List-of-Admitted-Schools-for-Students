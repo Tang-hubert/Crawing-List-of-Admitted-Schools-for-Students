{
 "cells": [
  {
   "cell_type": "markdown",
   "id": "770d821a",
   "metadata": {},
   "source": [
    "# Requirment"
   ]
  },
  {
   "cell_type": "code",
   "execution_count": null,
   "id": "a60986cc",
   "metadata": {},
   "outputs": [
    {
     "name": "stdout",
     "output_type": "stream",
     "text": [
      "Requirement already satisfied: pip in c:\\users\\user\\desktop\\backup\\brt\\projects\\crawing-list-of-admitted-schools-for-students\\venv\\lib\\site-packages (23.2.1)\n"
     ]
    }
   ],
   "source": [
    "!python.exe -m pip install --upgrade pip"
   ]
  },
  {
   "cell_type": "code",
   "execution_count": null,
   "id": "2588d7e0",
   "metadata": {},
   "outputs": [
    {
     "name": "stdout",
     "output_type": "stream",
     "text": [
      "Requirement already satisfied: pytesseract in c:\\users\\user\\desktop\\backup\\brt\\projects\\crawing-list-of-admitted-schools-for-students\\venv\\lib\\site-packages (0.3.10)\n",
      "Requirement already satisfied: packaging>=21.3 in c:\\users\\user\\desktop\\backup\\brt\\projects\\crawing-list-of-admitted-schools-for-students\\venv\\lib\\site-packages (from pytesseract) (23.1)\n",
      "Requirement already satisfied: Pillow>=8.0.0 in c:\\users\\user\\desktop\\backup\\brt\\projects\\crawing-list-of-admitted-schools-for-students\\venv\\lib\\site-packages (from pytesseract) (10.0.0)\n",
      "Requirement already satisfied: beautifulsoup4 in c:\\users\\user\\desktop\\backup\\brt\\projects\\crawing-list-of-admitted-schools-for-students\\venv\\lib\\site-packages (4.12.2)\n",
      "Requirement already satisfied: soupsieve>1.2 in c:\\users\\user\\desktop\\backup\\brt\\projects\\crawing-list-of-admitted-schools-for-students\\venv\\lib\\site-packages (from beautifulsoup4) (2.5)\n",
      "Requirement already satisfied: pandas in c:\\users\\user\\desktop\\backup\\brt\\projects\\crawing-list-of-admitted-schools-for-students\\venv\\lib\\site-packages (2.0.3)\n",
      "Requirement already satisfied: python-dateutil>=2.8.2 in c:\\users\\user\\desktop\\backup\\brt\\projects\\crawing-list-of-admitted-schools-for-students\\venv\\lib\\site-packages (from pandas) (2.8.2)\n",
      "Requirement already satisfied: pytz>=2020.1 in c:\\users\\user\\desktop\\backup\\brt\\projects\\crawing-list-of-admitted-schools-for-students\\venv\\lib\\site-packages (from pandas) (2023.3.post1)\n",
      "Requirement already satisfied: tzdata>=2022.1 in c:\\users\\user\\desktop\\backup\\brt\\projects\\crawing-list-of-admitted-schools-for-students\\venv\\lib\\site-packages (from pandas) (2023.3)\n",
      "Requirement already satisfied: numpy>=1.20.3 in c:\\users\\user\\desktop\\backup\\brt\\projects\\crawing-list-of-admitted-schools-for-students\\venv\\lib\\site-packages (from pandas) (1.24.3)\n",
      "Requirement already satisfied: six>=1.5 in c:\\users\\user\\desktop\\backup\\brt\\projects\\crawing-list-of-admitted-schools-for-students\\venv\\lib\\site-packages (from python-dateutil>=2.8.2->pandas) (1.16.0)\n",
      "Requirement already satisfied: Pillow in c:\\users\\user\\desktop\\backup\\brt\\projects\\crawing-list-of-admitted-schools-for-students\\venv\\lib\\site-packages (10.0.0)\n",
      "Requirement already satisfied: lxml in c:\\users\\user\\desktop\\backup\\brt\\projects\\crawing-list-of-admitted-schools-for-students\\venv\\lib\\site-packages (4.9.3)\n",
      "Requirement already satisfied: opencv-python in c:\\users\\user\\desktop\\backup\\brt\\projects\\crawing-list-of-admitted-schools-for-students\\venv\\lib\\site-packages (4.8.0.76)\n",
      "Requirement already satisfied: numpy>=1.17.0 in c:\\users\\user\\desktop\\backup\\brt\\projects\\crawing-list-of-admitted-schools-for-students\\venv\\lib\\site-packages (from opencv-python) (1.24.3)\n",
      "Requirement already satisfied: pathlib in c:\\users\\user\\desktop\\backup\\brt\\projects\\crawing-list-of-admitted-schools-for-students\\venv\\lib\\site-packages (1.0.1)\n"
     ]
    }
   ],
   "source": [
    "!pip install pytesseract\n",
    "!pip install beautifulsoup4\n",
    "!pip install pandas\n",
    "# !pip install tensorflow\n",
    "!pip install Pillow\n",
    "!pip install lxml\n",
    "!pip install opencv-python\n",
    "!pip install pathlib"
   ]
  },
  {
   "cell_type": "markdown",
   "id": "4418b613",
   "metadata": {},
   "source": [
    "# Import"
   ]
  },
  {
   "cell_type": "code",
   "execution_count": 4,
   "id": "f617ab13",
   "metadata": {},
   "outputs": [],
   "source": [
    "from bs4 import BeautifulSoup\n",
    "import base64\n",
    "import pandas as pd\n",
    "# import tensorflow as tf\n",
    "from pytesseract import pytesseract\n",
    "from PIL import Image\n",
    "import glob\n",
    "import cv2\n",
    "import numpy as np\n",
    "from pathlib import Path"
   ]
  },
  {
   "cell_type": "markdown",
   "id": "157329d3",
   "metadata": {},
   "source": [
    "# Main"
   ]
  },
  {
   "cell_type": "code",
   "execution_count": 47,
   "id": "999c2939",
   "metadata": {},
   "outputs": [
    {
     "name": "stdout",
     "output_type": "stream",
     "text": [
      "C:\\Users\\User\\Desktop\\backup\\brt\\Projects\\Crawing-List-of-Admitted-Schools-for-Students\\data\\department\n",
      "長庚大學中醫學系\n",
      "10\n",
      "10\n",
      "10\n",
      "10\n",
      "10\n",
      "10\n",
      "10\n",
      "10\n",
      "10\n",
      "10\n",
      "10\n",
      "10\n",
      "10\n",
      "10\n"
     ]
    },
    {
     "ename": "KeyboardInterrupt",
     "evalue": "",
     "output_type": "error",
     "traceback": [
      "\u001b[1;31m---------------------------------------------------------------------------\u001b[0m",
      "\u001b[1;31mKeyboardInterrupt\u001b[0m                         Traceback (most recent call last)",
      "\u001b[1;32mc:\\Users\\User\\Desktop\\backup\\brt\\Projects\\Crawing-List-of-Admitted-Schools-for-Students\\main.ipynb Cell 7\u001b[0m line \u001b[0;36m4\n\u001b[0;32m      <a href='vscode-notebook-cell:/c%3A/Users/User/Desktop/backup/brt/Projects/Crawing-List-of-Admitted-Schools-for-Students/main.ipynb#X16sZmlsZQ%3D%3D?line=0'>1</a>\u001b[0m get_ipython()\u001b[39m.\u001b[39mrun_line_magic(\u001b[39m'\u001b[39m\u001b[39mcd\u001b[39m\u001b[39m'\u001b[39m, \u001b[39m'\u001b[39m\u001b[39mC:\u001b[39m\u001b[39m\\\\\u001b[39;00m\u001b[39mUsers\u001b[39m\u001b[39m\\\\\u001b[39;00m\u001b[39mUser\u001b[39m\u001b[39m\\\\\u001b[39;00m\u001b[39mDesktop\u001b[39m\u001b[39m\\\\\u001b[39;00m\u001b[39mbackup\u001b[39m\u001b[39m\\\\\u001b[39;00m\u001b[39mbrt\u001b[39m\u001b[39m\\\\\u001b[39;00m\u001b[39mProjects\u001b[39m\u001b[39m\\\\\u001b[39;00m\u001b[39mCrawing-List-of-Admitted-Schools-for-Students\u001b[39m\u001b[39m\\\\\u001b[39;00m\u001b[39mdata\u001b[39m\u001b[39m\\\\\u001b[39;00m\u001b[39mdepartment \u001b[39m\u001b[39m'\u001b[39m)\n\u001b[0;32m      <a href='vscode-notebook-cell:/c%3A/Users/User/Desktop/backup/brt/Projects/Crawing-List-of-Admitted-Schools-for-Students/main.ipynb#X16sZmlsZQ%3D%3D?line=1'>2</a>\u001b[0m \u001b[39mfor\u001b[39;00m file \u001b[39min\u001b[39;00m glob\u001b[39m.\u001b[39miglob(\u001b[39m'\u001b[39m\u001b[39m*交叉查榜*.html\u001b[39m\u001b[39m'\u001b[39m):\n\u001b[0;32m      <a href='vscode-notebook-cell:/c%3A/Users/User/Desktop/backup/brt/Projects/Crawing-List-of-Admitted-Schools-for-Students/main.ipynb#X16sZmlsZQ%3D%3D?line=2'>3</a>\u001b[0m     \u001b[39m# print(file)\u001b[39;00m\n\u001b[1;32m----> <a href='vscode-notebook-cell:/c%3A/Users/User/Desktop/backup/brt/Projects/Crawing-List-of-Admitted-Schools-for-Students/main.ipynb#X16sZmlsZQ%3D%3D?line=3'>4</a>\u001b[0m     processing_department(file)\n",
      "\u001b[1;32mc:\\Users\\User\\Desktop\\backup\\brt\\Projects\\Crawing-List-of-Admitted-Schools-for-Students\\main.ipynb Cell 7\u001b[0m line \u001b[0;36m2\n\u001b[0;32m     <a href='vscode-notebook-cell:/c%3A/Users/User/Desktop/backup/brt/Projects/Crawing-List-of-Admitted-Schools-for-Students/main.ipynb#X16sZmlsZQ%3D%3D?line=18'>19</a>\u001b[0m univ \u001b[39m=\u001b[39m \u001b[39mstr\u001b[39m[:pos]\u001b[39m.\u001b[39mrstrip()\n\u001b[0;32m     <a href='vscode-notebook-cell:/c%3A/Users/User/Desktop/backup/brt/Projects/Crawing-List-of-Admitted-Schools-for-Students/main.ipynb#X16sZmlsZQ%3D%3D?line=20'>21</a>\u001b[0m dark_list \u001b[39m=\u001b[39m soup\u001b[39m.\u001b[39mbody\u001b[39m.\u001b[39mfind_all(bgcolor\u001b[39m=\u001b[39m\u001b[39m\"\u001b[39m\u001b[39m#DEDEDC\u001b[39m\u001b[39m\"\u001b[39m) \u001b[39m# 褐色\u001b[39;00m\n\u001b[1;32m---> <a href='vscode-notebook-cell:/c%3A/Users/User/Desktop/backup/brt/Projects/Crawing-List-of-Admitted-Schools-for-Students/main.ipynb#X16sZmlsZQ%3D%3D?line=21'>22</a>\u001b[0m df1 \u001b[39m=\u001b[39m processing_list(univ, year, dark_list, df)\n\u001b[0;32m     <a href='vscode-notebook-cell:/c%3A/Users/User/Desktop/backup/brt/Projects/Crawing-List-of-Admitted-Schools-for-Students/main.ipynb#X16sZmlsZQ%3D%3D?line=22'>23</a>\u001b[0m \u001b[39m# print(df1)\u001b[39;00m\n\u001b[0;32m     <a href='vscode-notebook-cell:/c%3A/Users/User/Desktop/backup/brt/Projects/Crawing-List-of-Admitted-Schools-for-Students/main.ipynb#X16sZmlsZQ%3D%3D?line=24'>25</a>\u001b[0m white_list \u001b[39m=\u001b[39m soup\u001b[39m.\u001b[39mbody\u001b[39m.\u001b[39mfind_all(bgcolor\u001b[39m=\u001b[39m\u001b[39m\"\u001b[39m\u001b[39m#FFFFFF\u001b[39m\u001b[39m\"\u001b[39m) \u001b[39m# 白色\u001b[39;00m\n",
      "\u001b[1;32mc:\\Users\\User\\Desktop\\backup\\brt\\Projects\\Crawing-List-of-Admitted-Schools-for-Students\\main.ipynb Cell 7\u001b[0m line \u001b[0;36m2\n\u001b[0;32m     <a href='vscode-notebook-cell:/c%3A/Users/User/Desktop/backup/brt/Projects/Crawing-List-of-Admitted-Schools-for-Students/main.ipynb#X16sZmlsZQ%3D%3D?line=20'>21</a>\u001b[0m         thresholding_(\u001b[39mr\u001b[39m\u001b[39m'\u001b[39m\u001b[39mrank.png\u001b[39m\u001b[39m'\u001b[39m)\n\u001b[0;32m     <a href='vscode-notebook-cell:/c%3A/Users/User/Desktop/backup/brt/Projects/Crawing-List-of-Admitted-Schools-for-Students/main.ipynb#X16sZmlsZQ%3D%3D?line=21'>22</a>\u001b[0m         path_to_image \u001b[39m=\u001b[39m \u001b[39mr\u001b[39m\u001b[39m'\u001b[39m\u001b[39mrank.png\u001b[39m\u001b[39m'\u001b[39m\n\u001b[1;32m---> <a href='vscode-notebook-cell:/c%3A/Users/User/Desktop/backup/brt/Projects/Crawing-List-of-Admitted-Schools-for-Students/main.ipynb#X16sZmlsZQ%3D%3D?line=22'>23</a>\u001b[0m         rank \u001b[39m=\u001b[39m pytesseract\u001b[39m.\u001b[39;49mimage_to_string(Image\u001b[39m.\u001b[39;49mopen(path_to_image), lang\u001b[39m=\u001b[39;49m\u001b[39m'\u001b[39;49m\u001b[39mchi_tra\u001b[39;49m\u001b[39m'\u001b[39;49m, config\u001b[39m=\u001b[39;49m\u001b[39m'\u001b[39;49m\u001b[39m--oem 0 --psm 7\u001b[39;49m\u001b[39m'\u001b[39;49m)\n\u001b[0;32m     <a href='vscode-notebook-cell:/c%3A/Users/User/Desktop/backup/brt/Projects/Crawing-List-of-Admitted-Schools-for-Students/main.ipynb#X16sZmlsZQ%3D%3D?line=23'>24</a>\u001b[0m \u001b[39melif\u001b[39;00m count \u001b[39m==\u001b[39m \u001b[39m5\u001b[39m:\n\u001b[0;32m     <a href='vscode-notebook-cell:/c%3A/Users/User/Desktop/backup/brt/Projects/Crawing-List-of-Admitted-Schools-for-Students/main.ipynb#X16sZmlsZQ%3D%3D?line=24'>25</a>\u001b[0m     base64_str \u001b[39m=\u001b[39m i\u001b[39m.\u001b[39mfind_all(\u001b[39m'\u001b[39m\u001b[39mimg\u001b[39m\u001b[39m'\u001b[39m)[\u001b[39m0\u001b[39m][\u001b[39m'\u001b[39m\u001b[39msrc\u001b[39m\u001b[39m'\u001b[39m]\u001b[39m.\u001b[39msplit(\u001b[39m'\u001b[39m\u001b[39m,\u001b[39m\u001b[39m'\u001b[39m)[\u001b[39m1\u001b[39m]\n",
      "File \u001b[1;32mc:\\Users\\User\\Desktop\\backup\\brt\\Projects\\Crawing-List-of-Admitted-Schools-for-Students\\venv\\lib\\site-packages\\pytesseract\\pytesseract.py:423\u001b[0m, in \u001b[0;36mimage_to_string\u001b[1;34m(image, lang, config, nice, output_type, timeout)\u001b[0m\n\u001b[0;32m    418\u001b[0m \u001b[39m\u001b[39m\u001b[39m\"\"\"\u001b[39;00m\n\u001b[0;32m    419\u001b[0m \u001b[39mReturns the result of a Tesseract OCR run on the provided image to string\u001b[39;00m\n\u001b[0;32m    420\u001b[0m \u001b[39m\"\"\"\u001b[39;00m\n\u001b[0;32m    421\u001b[0m args \u001b[39m=\u001b[39m [image, \u001b[39m'\u001b[39m\u001b[39mtxt\u001b[39m\u001b[39m'\u001b[39m, lang, config, nice, timeout]\n\u001b[1;32m--> 423\u001b[0m \u001b[39mreturn\u001b[39;00m {\n\u001b[0;32m    424\u001b[0m     Output\u001b[39m.\u001b[39;49mBYTES: \u001b[39mlambda\u001b[39;49;00m: run_and_get_output(\u001b[39m*\u001b[39;49m(args \u001b[39m+\u001b[39;49m [\u001b[39mTrue\u001b[39;49;00m])),\n\u001b[0;32m    425\u001b[0m     Output\u001b[39m.\u001b[39;49mDICT: \u001b[39mlambda\u001b[39;49;00m: {\u001b[39m'\u001b[39;49m\u001b[39mtext\u001b[39;49m\u001b[39m'\u001b[39;49m: run_and_get_output(\u001b[39m*\u001b[39;49margs)},\n\u001b[0;32m    426\u001b[0m     Output\u001b[39m.\u001b[39;49mSTRING: \u001b[39mlambda\u001b[39;49;00m: run_and_get_output(\u001b[39m*\u001b[39;49margs),\n\u001b[0;32m    427\u001b[0m }[output_type]()\n",
      "File \u001b[1;32mc:\\Users\\User\\Desktop\\backup\\brt\\Projects\\Crawing-List-of-Admitted-Schools-for-Students\\venv\\lib\\site-packages\\pytesseract\\pytesseract.py:426\u001b[0m, in \u001b[0;36mimage_to_string.<locals>.<lambda>\u001b[1;34m()\u001b[0m\n\u001b[0;32m    418\u001b[0m \u001b[39m\u001b[39m\u001b[39m\"\"\"\u001b[39;00m\n\u001b[0;32m    419\u001b[0m \u001b[39mReturns the result of a Tesseract OCR run on the provided image to string\u001b[39;00m\n\u001b[0;32m    420\u001b[0m \u001b[39m\"\"\"\u001b[39;00m\n\u001b[0;32m    421\u001b[0m args \u001b[39m=\u001b[39m [image, \u001b[39m'\u001b[39m\u001b[39mtxt\u001b[39m\u001b[39m'\u001b[39m, lang, config, nice, timeout]\n\u001b[0;32m    423\u001b[0m \u001b[39mreturn\u001b[39;00m {\n\u001b[0;32m    424\u001b[0m     Output\u001b[39m.\u001b[39mBYTES: \u001b[39mlambda\u001b[39;00m: run_and_get_output(\u001b[39m*\u001b[39m(args \u001b[39m+\u001b[39m [\u001b[39mTrue\u001b[39;00m])),\n\u001b[0;32m    425\u001b[0m     Output\u001b[39m.\u001b[39mDICT: \u001b[39mlambda\u001b[39;00m: {\u001b[39m'\u001b[39m\u001b[39mtext\u001b[39m\u001b[39m'\u001b[39m: run_and_get_output(\u001b[39m*\u001b[39margs)},\n\u001b[1;32m--> 426\u001b[0m     Output\u001b[39m.\u001b[39mSTRING: \u001b[39mlambda\u001b[39;00m: run_and_get_output(\u001b[39m*\u001b[39;49margs),\n\u001b[0;32m    427\u001b[0m }[output_type]()\n",
      "File \u001b[1;32mc:\\Users\\User\\Desktop\\backup\\brt\\Projects\\Crawing-List-of-Admitted-Schools-for-Students\\venv\\lib\\site-packages\\pytesseract\\pytesseract.py:288\u001b[0m, in \u001b[0;36mrun_and_get_output\u001b[1;34m(image, extension, lang, config, nice, timeout, return_bytes)\u001b[0m\n\u001b[0;32m    277\u001b[0m \u001b[39mwith\u001b[39;00m save(image) \u001b[39mas\u001b[39;00m (temp_name, input_filename):\n\u001b[0;32m    278\u001b[0m     kwargs \u001b[39m=\u001b[39m {\n\u001b[0;32m    279\u001b[0m         \u001b[39m'\u001b[39m\u001b[39minput_filename\u001b[39m\u001b[39m'\u001b[39m: input_filename,\n\u001b[0;32m    280\u001b[0m         \u001b[39m'\u001b[39m\u001b[39moutput_filename_base\u001b[39m\u001b[39m'\u001b[39m: temp_name,\n\u001b[1;32m   (...)\u001b[0m\n\u001b[0;32m    285\u001b[0m         \u001b[39m'\u001b[39m\u001b[39mtimeout\u001b[39m\u001b[39m'\u001b[39m: timeout,\n\u001b[0;32m    286\u001b[0m     }\n\u001b[1;32m--> 288\u001b[0m     run_tesseract(\u001b[39m*\u001b[39;49m\u001b[39m*\u001b[39;49mkwargs)\n\u001b[0;32m    289\u001b[0m     filename \u001b[39m=\u001b[39m \u001b[39mf\u001b[39m\u001b[39m\"\u001b[39m\u001b[39m{\u001b[39;00mkwargs[\u001b[39m'\u001b[39m\u001b[39moutput_filename_base\u001b[39m\u001b[39m'\u001b[39m]\u001b[39m}\u001b[39;00m\u001b[39m{\u001b[39;00mextsep\u001b[39m}\u001b[39;00m\u001b[39m{\u001b[39;00mextension\u001b[39m}\u001b[39;00m\u001b[39m\"\u001b[39m\n\u001b[0;32m    290\u001b[0m     \u001b[39mwith\u001b[39;00m \u001b[39mopen\u001b[39m(filename, \u001b[39m'\u001b[39m\u001b[39mrb\u001b[39m\u001b[39m'\u001b[39m) \u001b[39mas\u001b[39;00m output_file:\n",
      "File \u001b[1;32mc:\\Users\\User\\Desktop\\backup\\brt\\Projects\\Crawing-List-of-Admitted-Schools-for-Students\\venv\\lib\\site-packages\\pytesseract\\pytesseract.py:262\u001b[0m, in \u001b[0;36mrun_tesseract\u001b[1;34m(input_filename, output_filename_base, extension, lang, config, nice, timeout)\u001b[0m\n\u001b[0;32m    259\u001b[0m     \u001b[39melse\u001b[39;00m:\n\u001b[0;32m    260\u001b[0m         \u001b[39mraise\u001b[39;00m TesseractNotFoundError()\n\u001b[1;32m--> 262\u001b[0m \u001b[39mwith\u001b[39;00m timeout_manager(proc, timeout) \u001b[39mas\u001b[39;00m error_string:\n\u001b[0;32m    263\u001b[0m     \u001b[39mif\u001b[39;00m proc\u001b[39m.\u001b[39mreturncode:\n\u001b[0;32m    264\u001b[0m         \u001b[39mraise\u001b[39;00m TesseractError(proc\u001b[39m.\u001b[39mreturncode, get_errors(error_string))\n",
      "File \u001b[1;32m~\\AppData\\Local\\Programs\\Python\\Python38\\lib\\contextlib.py:113\u001b[0m, in \u001b[0;36m_GeneratorContextManager.__enter__\u001b[1;34m(self)\u001b[0m\n\u001b[0;32m    111\u001b[0m \u001b[39mdel\u001b[39;00m \u001b[39mself\u001b[39m\u001b[39m.\u001b[39margs, \u001b[39mself\u001b[39m\u001b[39m.\u001b[39mkwds, \u001b[39mself\u001b[39m\u001b[39m.\u001b[39mfunc\n\u001b[0;32m    112\u001b[0m \u001b[39mtry\u001b[39;00m:\n\u001b[1;32m--> 113\u001b[0m     \u001b[39mreturn\u001b[39;00m \u001b[39mnext\u001b[39;49m(\u001b[39mself\u001b[39;49m\u001b[39m.\u001b[39;49mgen)\n\u001b[0;32m    114\u001b[0m \u001b[39mexcept\u001b[39;00m \u001b[39mStopIteration\u001b[39;00m:\n\u001b[0;32m    115\u001b[0m     \u001b[39mraise\u001b[39;00m \u001b[39mRuntimeError\u001b[39;00m(\u001b[39m\"\u001b[39m\u001b[39mgenerator didn\u001b[39m\u001b[39m'\u001b[39m\u001b[39mt yield\u001b[39m\u001b[39m\"\u001b[39m) \u001b[39mfrom\u001b[39;00m \u001b[39mNone\u001b[39;00m\n",
      "File \u001b[1;32mc:\\Users\\User\\Desktop\\backup\\brt\\Projects\\Crawing-List-of-Admitted-Schools-for-Students\\venv\\lib\\site-packages\\pytesseract\\pytesseract.py:127\u001b[0m, in \u001b[0;36mtimeout_manager\u001b[1;34m(proc, seconds)\u001b[0m\n\u001b[0;32m    125\u001b[0m \u001b[39mtry\u001b[39;00m:\n\u001b[0;32m    126\u001b[0m     \u001b[39mif\u001b[39;00m \u001b[39mnot\u001b[39;00m seconds:\n\u001b[1;32m--> 127\u001b[0m         \u001b[39myield\u001b[39;00m proc\u001b[39m.\u001b[39;49mcommunicate()[\u001b[39m1\u001b[39m]\n\u001b[0;32m    128\u001b[0m         \u001b[39mreturn\u001b[39;00m\n\u001b[0;32m    130\u001b[0m     \u001b[39mtry\u001b[39;00m:\n",
      "File \u001b[1;32m~\\AppData\\Local\\Programs\\Python\\Python38\\lib\\subprocess.py:1024\u001b[0m, in \u001b[0;36mPopen.communicate\u001b[1;34m(self, input, timeout)\u001b[0m\n\u001b[0;32m   1021\u001b[0m     endtime \u001b[39m=\u001b[39m \u001b[39mNone\u001b[39;00m\n\u001b[0;32m   1023\u001b[0m \u001b[39mtry\u001b[39;00m:\n\u001b[1;32m-> 1024\u001b[0m     stdout, stderr \u001b[39m=\u001b[39m \u001b[39mself\u001b[39;49m\u001b[39m.\u001b[39;49m_communicate(\u001b[39minput\u001b[39;49m, endtime, timeout)\n\u001b[0;32m   1025\u001b[0m \u001b[39mexcept\u001b[39;00m \u001b[39mKeyboardInterrupt\u001b[39;00m:\n\u001b[0;32m   1026\u001b[0m     \u001b[39m# https://bugs.python.org/issue25942\u001b[39;00m\n\u001b[0;32m   1027\u001b[0m     \u001b[39m# See the detailed comment in .wait().\u001b[39;00m\n\u001b[0;32m   1028\u001b[0m     \u001b[39mif\u001b[39;00m timeout \u001b[39mis\u001b[39;00m \u001b[39mnot\u001b[39;00m \u001b[39mNone\u001b[39;00m:\n",
      "File \u001b[1;32m~\\AppData\\Local\\Programs\\Python\\Python38\\lib\\subprocess.py:1395\u001b[0m, in \u001b[0;36mPopen._communicate\u001b[1;34m(self, input, endtime, orig_timeout)\u001b[0m\n\u001b[0;32m   1391\u001b[0m \u001b[39m# Wait for the reader threads, or time out.  If we time out, the\u001b[39;00m\n\u001b[0;32m   1392\u001b[0m \u001b[39m# threads remain reading and the fds left open in case the user\u001b[39;00m\n\u001b[0;32m   1393\u001b[0m \u001b[39m# calls communicate again.\u001b[39;00m\n\u001b[0;32m   1394\u001b[0m \u001b[39mif\u001b[39;00m \u001b[39mself\u001b[39m\u001b[39m.\u001b[39mstdout \u001b[39mis\u001b[39;00m \u001b[39mnot\u001b[39;00m \u001b[39mNone\u001b[39;00m:\n\u001b[1;32m-> 1395\u001b[0m     \u001b[39mself\u001b[39;49m\u001b[39m.\u001b[39;49mstdout_thread\u001b[39m.\u001b[39;49mjoin(\u001b[39mself\u001b[39;49m\u001b[39m.\u001b[39;49m_remaining_time(endtime))\n\u001b[0;32m   1396\u001b[0m     \u001b[39mif\u001b[39;00m \u001b[39mself\u001b[39m\u001b[39m.\u001b[39mstdout_thread\u001b[39m.\u001b[39mis_alive():\n\u001b[0;32m   1397\u001b[0m         \u001b[39mraise\u001b[39;00m TimeoutExpired(\u001b[39mself\u001b[39m\u001b[39m.\u001b[39margs, orig_timeout)\n",
      "File \u001b[1;32m~\\AppData\\Local\\Programs\\Python\\Python38\\lib\\threading.py:1011\u001b[0m, in \u001b[0;36mThread.join\u001b[1;34m(self, timeout)\u001b[0m\n\u001b[0;32m   1008\u001b[0m     \u001b[39mraise\u001b[39;00m \u001b[39mRuntimeError\u001b[39;00m(\u001b[39m\"\u001b[39m\u001b[39mcannot join current thread\u001b[39m\u001b[39m\"\u001b[39m)\n\u001b[0;32m   1010\u001b[0m \u001b[39mif\u001b[39;00m timeout \u001b[39mis\u001b[39;00m \u001b[39mNone\u001b[39;00m:\n\u001b[1;32m-> 1011\u001b[0m     \u001b[39mself\u001b[39;49m\u001b[39m.\u001b[39;49m_wait_for_tstate_lock()\n\u001b[0;32m   1012\u001b[0m \u001b[39melse\u001b[39;00m:\n\u001b[0;32m   1013\u001b[0m     \u001b[39m# the behavior of a negative timeout isn't documented, but\u001b[39;00m\n\u001b[0;32m   1014\u001b[0m     \u001b[39m# historically .join(timeout=x) for x<0 has acted as if timeout=0\u001b[39;00m\n\u001b[0;32m   1015\u001b[0m     \u001b[39mself\u001b[39m\u001b[39m.\u001b[39m_wait_for_tstate_lock(timeout\u001b[39m=\u001b[39m\u001b[39mmax\u001b[39m(timeout, \u001b[39m0\u001b[39m))\n",
      "File \u001b[1;32m~\\AppData\\Local\\Programs\\Python\\Python38\\lib\\threading.py:1027\u001b[0m, in \u001b[0;36mThread._wait_for_tstate_lock\u001b[1;34m(self, block, timeout)\u001b[0m\n\u001b[0;32m   1025\u001b[0m \u001b[39mif\u001b[39;00m lock \u001b[39mis\u001b[39;00m \u001b[39mNone\u001b[39;00m:  \u001b[39m# already determined that the C code is done\u001b[39;00m\n\u001b[0;32m   1026\u001b[0m     \u001b[39massert\u001b[39;00m \u001b[39mself\u001b[39m\u001b[39m.\u001b[39m_is_stopped\n\u001b[1;32m-> 1027\u001b[0m \u001b[39melif\u001b[39;00m lock\u001b[39m.\u001b[39;49macquire(block, timeout):\n\u001b[0;32m   1028\u001b[0m     lock\u001b[39m.\u001b[39mrelease()\n\u001b[0;32m   1029\u001b[0m     \u001b[39mself\u001b[39m\u001b[39m.\u001b[39m_stop()\n",
      "\u001b[1;31mKeyboardInterrupt\u001b[0m: "
     ]
    }
   ],
   "source": [
    "%cd C:\\Users\\User\\Desktop\\backup\\brt\\Projects\\Crawing-List-of-Admitted-Schools-for-Students\\data\\department\\\n",
    "\n",
    "for file in glob.iglob('*交叉查榜*.html'):\n",
    "    # print(file)\n",
    "    processing_department(file)"
   ]
  },
  {
   "cell_type": "markdown",
   "id": "d49fa0a1",
   "metadata": {},
   "source": [
    "# Functions"
   ]
  },
  {
   "cell_type": "code",
   "execution_count": 46,
   "id": "68113375",
   "metadata": {
    "scrolled": false
   },
   "outputs": [],
   "source": [
    "def processing_department(filename):\n",
    "    \n",
    "    with open(filename, 'r', encoding=\"utf-8\") as file:\n",
    "        html = file.read()\n",
    "        # print(html)\n",
    "        soup = BeautifulSoup(html, 'html.parser')\n",
    "    \n",
    "    fields = ['rank', 'exam_location', 'stuno', 'univ',  'year', 'department_name']\n",
    "    df = pd.DataFrame(columns=fields)\n",
    "    df1 = pd.DataFrame(columns=fields)\n",
    "    df2 = pd.DataFrame(columns=fields)\n",
    "\n",
    "    str = soup.head.find_all('title')[0].text\n",
    "    pos = str.find('年')\n",
    "    year = str[pos-3:pos]  # str[5:8] str[5], str[6], str[7]\n",
    "\n",
    "    str = soup.head.find_all('title')[0].text\n",
    "    pos = str.find('-')\n",
    "    univ = str[:pos].rstrip()\n",
    "\n",
    "    dark_list = soup.body.find_all(bgcolor=\"#DEDEDC\") # 褐色\n",
    "    df1 = processing_list(univ, year, dark_list, df)\n",
    "    # print(df1)\n",
    "    \n",
    "    white_list = soup.body.find_all(bgcolor=\"#FFFFFF\") # 白色\n",
    "    df2 = processing_list(univ, year, white_list, df)\n",
    "    # print(df2)\n",
    "    \n",
    "    # craw more data\n",
    "    \n",
    "    # make two df cross-interleave\n",
    "    max_len = max(len(df1), len(df2))\n",
    "    for i in range(max_len):\n",
    "        if i < len(df1):\n",
    "            df = pd.concat([df, df1.iloc[[i]]], ignore_index=True)\n",
    "        if i < len(df2):\n",
    "            df = pd.concat([df, df2.iloc[[i]]], ignore_index=True)\n",
    "\n",
    "    result_dir = Path(r\"C:\\Users\\User\\Desktop\\backup\\brt\\Projects\\Crawing-List-of-Admitted-Schools-for-Students\\result\",f'{univ}.csv')\n",
    "    df.to_csv(path_or_buf = result_dir, encoding='utf-8-sig', index=False)"
   ]
  },
  {
   "cell_type": "code",
   "execution_count": 45,
   "id": "c95da709",
   "metadata": {},
   "outputs": [],
   "source": [
    "def processing_list(univ, year, list, df):\n",
    "    print(univ)\n",
    "    # print(list) # html\n",
    "    #print(df)\n",
    "    department_name = []\n",
    "    for item in list:\n",
    "        x = item.children # get message under the soup.body.find_all(bgcolor=\"\")\n",
    "        count = 0\n",
    "        for i in x:\n",
    "            # print(\"i:\",i)\n",
    "            if count == 3:\n",
    "                try:\n",
    "                    base64_str = i.find_all('img')[0]['src'].split(',')[1]\n",
    "                except IndexError:\n",
    "                    rank = \"None\"\n",
    "                else:\n",
    "                    with open(\"rank.png\", \"wb\") as fh:\n",
    "                        fh.write(base64.decodebytes(bytes(base64_str, 'utf-8')))\n",
    "                    path_to_tesseract = r'C:\\Program Files\\Tesseract-OCR\\tesseract.exe'\n",
    "                    pytesseract.tesseract_cmd = path_to_tesseract\n",
    "                    thresholding_(r'rank.png')\n",
    "                    path_to_image = r'rank.png'\n",
    "                    rank = pytesseract.image_to_string(Image.open(path_to_image), lang='chi_tra', config='--oem 0 --psm 7')\n",
    "            elif count == 5:\n",
    "                base64_str = i.find_all('img')[0]['src'].split(',')[1]\n",
    "                with open(\"num.png\", \"wb\") as fh:\n",
    "                    fh.write(base64.decodebytes(bytes(base64_str, 'utf-8')))\n",
    "                path_to_tesseract = r'C:\\Program Files\\Tesseract-OCR\\tesseract.exe'\n",
    "                pytesseract.tesseract_cmd = path_to_tesseract\n",
    "                thresholding_(r'num.png')\n",
    "                path_to_image = r'num.png'\n",
    "                stuno = pytesseract.image_to_string(Image.open(path_to_image), lang='eng', config='--oem 1 --psm 7')            \n",
    "            count += 1\n",
    "    \n",
    "        x = item.find_all('a')\n",
    "        # for i in x:\n",
    "        #     print(\"x:\", i.text)\n",
    "        for dep in range(1, 13):\n",
    "            try:\n",
    "                print(x[dep].text)\n",
    "                department_name.append(x[dep].text)\n",
    "            except:\n",
    "                print(10)\n",
    "                department_name = []\n",
    "                pass\n",
    "        exam_location = x[0].text[6:]\n",
    "\n",
    "        #ptr_df = ptr_df + 1\n",
    "        \n",
    "        dict = {'rank': rank, 'exam_location': exam_location, 'stuno': stuno, 'univ': univ, 'year': year, 'department_name': department_name}\n",
    "        df = pd.concat([df, pd.DataFrame([dict])], ignore_index = True)\n",
    "    \n",
    "    return df"
   ]
  },
  {
   "cell_type": "code",
   "execution_count": 38,
   "id": "34fd1384",
   "metadata": {},
   "outputs": [],
   "source": [
    "def thresholding_(png):\n",
    "    if png[0:3] == \"num\":\n",
    "        image = cv2.imread(png)\n",
    "        gray = get_grayscale(image)\n",
    "        thresh_ = thresholding(gray)\n",
    "        cv2.imwrite('num.png', thresh_)\n",
    "    else:\n",
    "        image = cv2.imread(png)\n",
    "        gray = get_grayscale(image)\n",
    "        thresh_ = thresholding(gray)\n",
    "        cv2.imwrite('rank.png', thresh_)        \n",
    "  "
   ]
  },
  {
   "cell_type": "markdown",
   "id": "687f4541",
   "metadata": {},
   "source": [
    "## Cv2"
   ]
  },
  {
   "cell_type": "code",
   "execution_count": 39,
   "id": "9fe78ae0",
   "metadata": {},
   "outputs": [],
   "source": [
    "# Convert the image to grayscale\n",
    "def get_grayscale(image):\n",
    "    return cv2.cvtColor(image, cv2.COLOR_BGR2GRAY)\n",
    "\n",
    "# Remove noise from the image\n",
    "def remove_noise(image):\n",
    "    return cv2.medianBlur(image, 5)\n",
    " \n",
    "# Thresholding\n",
    "def thresholding(image):\n",
    "    return cv2.threshold(image, 0, 255, cv2.THRESH_BINARY + cv2.THRESH_OTSU)[1]\n",
    "\n",
    "# Dilation\n",
    "def dilate(image):\n",
    "    kernel = np.ones((5, 5), np.uint8)\n",
    "    return cv2.dilate(image, kernel, iterations=1)\n",
    "    \n",
    "# Erosion\n",
    "def erode(image):\n",
    "    kernel = np.ones((5, 5), np.uint8)\n",
    "    return cv2.erode(image, kernel, iterations=1)\n",
    "\n",
    "# Opening - erosion followed by dilation\n",
    "def opening(image):\n",
    "    kernel = np.ones((5, 5), np.uint8)\n",
    "    return cv2.morphologyEx(image, cv2.MORPH_OPEN, kernel)\n",
    "\n",
    "# Canny edge detection\n",
    "def canny(image):\n",
    "    return cv2.Canny(image, 100, 200)\n",
    "\n",
    "# Skew correction\n",
    "def deskew(image):\n",
    "    coords = np.column_stack(np.where(image > 0))\n",
    "    angle = cv2.minAreaRect(coords)[-1]\n",
    "\n",
    "    if angle < -45:\n",
    "        angle = -(90 + angle)\n",
    "    else:\n",
    "        angle = -angle\n",
    "    (h, w) = image.shape[:2]\n",
    "    center = (w // 2, h // 2)\n",
    "    M = cv2.getRotationMatrix2D(center, angle, 1.0)\n",
    "    rotated = cv2.warpAffine(image, M, (w, h), flags=cv2.INTER_CUBIC, borderMode=cv2.BORDER_REPLICATE)\n",
    "    return rotated\n",
    "\n",
    "# Template matching\n",
    "def match_template(image, template):\n",
    "    return cv2.matchTemplate(image, template, cv2.TM_CCOEFF_NORMED)"
   ]
  }
 ],
 "metadata": {
  "kernelspec": {
   "display_name": "Python 3 (ipykernel)",
   "language": "python",
   "name": "python3"
  },
  "language_info": {
   "codemirror_mode": {
    "name": "ipython",
    "version": 3
   },
   "file_extension": ".py",
   "mimetype": "text/x-python",
   "name": "python",
   "nbconvert_exporter": "python",
   "pygments_lexer": "ipython3",
   "version": "3.8.0"
  }
 },
 "nbformat": 4,
 "nbformat_minor": 5
}
