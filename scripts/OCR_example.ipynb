{
 "cells": [
  {
   "cell_type": "code",
   "execution_count": 1,
   "id": "1da069e7",
   "metadata": {},
   "outputs": [
    {
     "name": "stdout",
     "output_type": "stream",
     "text": [
      "C:\\Users\\user\\Desktop\\Working\\向高手求救--落點分析交叉查榜依考區查榜\n"
     ]
    }
   ],
   "source": [
    "%cd C:\\Users\\user\\Desktop\\Working\\向高手求救--落點分析交叉查榜依考區查榜"
   ]
  },
  {
   "cell_type": "code",
   "execution_count": 5,
   "id": "5d3f2f9a",
   "metadata": {},
   "outputs": [],
   "source": [
    "base64_str = b'iVBORw0KGgoAAAANSUhEUgAAAFoAAAAUCAIAAACCmL1JAAAABnRSTlMA/wD/AP83WBt9AAAACXBIWXMAAA7EAAAOxAGVKw4bAAAA+klEQVRYhe2WSw7DIAxE7ar3vzJdREEGhgHTJkGq3y5x7IHh42hKSYKT19MD2IuwoyDsKAg7CsKOgncvoKoiAvuOK3S8qRjmwixYuSpVJXr7ppKRwXJWjwwlh4h3k4qwzozWpLQFHJbeyliBdg1JaIjrY6KV3+RHb3FgR1W0HUQrRkI2/YCXhbTniGvNV6646SpVVb6neO7wmzZlIUtusCOd5Efp7CnI2qzWzqzs0GirQ+TdO4Tf3B2T1e1YSQjeF7mgxapI3wui9T240RIZb6MVehH2FIeTvKjRAjvaxYTTdv2hERNh7vK1cslv2N/y/FW6FWFHQdhR8AGtNwggfecS8wAAAABJRU5ErkJggg=='"
   ]
  },
  {
   "cell_type": "code",
   "execution_count": 6,
   "id": "d393cc7c",
   "metadata": {},
   "outputs": [],
   "source": [
    "import base64\n",
    "with open(\"imageToSave.png\", \"wb\") as fh:\n",
    "    fh.write(base64.decodebytes(base64_str))"
   ]
  },
  {
   "cell_type": "code",
   "execution_count": 9,
   "id": "f712eeae",
   "metadata": {},
   "outputs": [],
   "source": [
    "import base64\n",
    "\n",
    "imgdata = base64.b64decode(base64_str)\n",
    "filename = 'some_image.jpeg' # I assume you have a way of picking unique filenames\n",
    "with open(filename, 'wb') as f:\n",
    "    f.write(imgdata)"
   ]
  },
  {
   "cell_type": "code",
   "execution_count": 11,
   "id": "53b2d760",
   "metadata": {},
   "outputs": [
    {
     "name": "stdout",
     "output_type": "stream",
     "text": [
      "Collecting pytesseract\n",
      "  Downloading pytesseract-0.3.9-py2.py3-none-any.whl (14 kB)\n",
      "Requirement already satisfied: Pillow>=8.0.0 in c:\\users\\user\\anaconda3\\envs\\gyliao\\lib\\site-packages (from pytesseract) (8.4.0)\n",
      "Collecting packaging>=21.3\n",
      "  Downloading packaging-21.3-py3-none-any.whl (40 kB)\n",
      "Requirement already satisfied: pyparsing!=3.0.5,>=2.0.2 in c:\\users\\user\\anaconda3\\envs\\gyliao\\lib\\site-packages (from packaging>=21.3->pytesseract) (2.4.7)\n",
      "Installing collected packages: packaging, pytesseract\n",
      "  Attempting uninstall: packaging\n",
      "    Found existing installation: packaging 21.0\n",
      "    Uninstalling packaging-21.0:\n",
      "      Successfully uninstalled packaging-21.0\n",
      "Successfully installed packaging-21.3 pytesseract-0.3.9\n",
      "Note: you may need to restart the kernel to use updated packages.\n"
     ]
    }
   ],
   "source": [
    "pip install pytesseract"
   ]
  },
  {
   "cell_type": "code",
   "execution_count": 15,
   "id": "d3bbdcc4",
   "metadata": {},
   "outputs": [
    {
     "name": "stdout",
     "output_type": "stream",
     "text": [
      "Sample Text 1\n",
      "\n"
     ]
    }
   ],
   "source": [
    "from PIL import Image\n",
    "from pytesseract import pytesseract\n",
    "\n",
    "#Define path to tessaract.exe\n",
    "path_to_tesseract = r'C:\\Program Files\\Tesseract-OCR\\tesseract.exe'\n",
    "\n",
    "#Define path to image\n",
    "#path_to_image = r'C:\\Program Files\\Tesseract-OCR\\images\\sampletext1-ocr.png'\n",
    "path_to_image = r'C:\\Program Files\\Tesseract-OCR\\images\\imageToSave.png'\n",
    "\n",
    "#Point tessaract_cmd to tessaract.exe\n",
    "pytesseract.tesseract_cmd = path_to_tesseract\n",
    "\n",
    "#Open image with PIL\n",
    "img = Image.open(path_to_image)\n",
    "\n",
    "#Extract text from image\n",
    "text = pytesseract.image_to_string(img)\n",
    "\n",
    "print(text)"
   ]
  },
  {
   "cell_type": "code",
   "execution_count": null,
   "id": "722ca1c5",
   "metadata": {},
   "outputs": [],
   "source": []
  }
 ],
 "metadata": {
  "kernelspec": {
   "display_name": "Python 3 (ipykernel)",
   "language": "python",
   "name": "python3"
  },
  "language_info": {
   "codemirror_mode": {
    "name": "ipython",
    "version": 3
   },
   "file_extension": ".py",
   "mimetype": "text/x-python",
   "name": "python",
   "nbconvert_exporter": "python",
   "pygments_lexer": "ipython3",
   "version": "3.8.12"
  }
 },
 "nbformat": 4,
 "nbformat_minor": 5
}
