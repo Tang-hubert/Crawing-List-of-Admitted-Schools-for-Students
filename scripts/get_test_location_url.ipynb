{
 "cells": [
  {
   "cell_type": "code",
   "execution_count": 3,
   "metadata": {},
   "outputs": [],
   "source": [
    "from bs4 import BeautifulSoup\n",
    "import pandas as pd\n",
    "from pytesseract import pytesseract\n",
    "import glob\n",
    "from pathlib import Path"
   ]
  },
  {
   "cell_type": "code",
   "execution_count": 59,
   "metadata": {},
   "outputs": [
    {
     "name": "stdout",
     "output_type": "stream",
     "text": [
      "C:\\Users\\User\\Desktop\\backup\\brt\\Projects\\Crawing-List-of-Admitted-Schools-for-Students\\data\\department\n",
      "長庚大學中醫學系\n",
      "長庚大學中醫學系\n",
      "長庚大學人工智慧學系\n",
      "長庚大學人工智慧學系\n",
      "長庚大學化工與材料工程學系\n",
      "長庚大學化工與材料工程學系\n",
      "長庚大學呼吸治療學系\n",
      "長庚大學呼吸治療學系\n",
      "長庚大學工商管理學系(工商創業組)\n",
      "長庚大學工商管理學系(工商創業組)\n",
      "長庚大學工商管理學系(數智商務組)\n",
      "長庚大學工商管理學系(數智商務組)\n",
      "長庚大學工業設計學系\n",
      "長庚大學工業設計學系\n",
      "長庚大學數位金融科技學系(乙組)\n",
      "長庚大學數位金融科技學系(乙組)\n",
      "長庚大學數位金融科技學系(甲組)\n",
      "長庚大學數位金融科技學系(甲組)\n",
      "長庚大學機械工程學系\n",
      "長庚大學機械工程學系\n",
      "長庚大學物理治療學系\n",
      "長庚大學物理治療學系\n",
      "長庚大學生物醫學工程學系\n",
      "長庚大學生物醫學工程學系\n",
      "長庚大學生物醫學系\n",
      "長庚大學生物醫學系\n",
      "長庚大學職能治療學系\n",
      "長庚大學職能治療學系\n",
      "長庚大學護理學系\n",
      "長庚大學護理學系\n",
      "長庚大學資訊工程學系\n",
      "長庚大學資訊工程學系\n",
      "長庚大學資訊管理學系(乙組)\n",
      "長庚大學資訊管理學系(乙組)\n",
      "長庚大學資訊管理學系(甲組)\n",
      "長庚大學資訊管理學系(甲組)\n",
      "長庚大學醫務管理學系\n",
      "長庚大學醫務管理學系\n",
      "長庚大學醫學影像暨放射科學系\n",
      "長庚大學醫學影像暨放射科學系\n",
      "長庚大學醫學生物技術暨檢驗學系\n",
      "長庚大學醫學生物技術暨檢驗學系\n",
      "長庚大學醫學系\n",
      "長庚大學醫學系\n",
      "長庚大學醫學系(公費生)\n",
      "長庚大學醫學系(公費生)\n",
      "長庚大學醫學系(繁星第八類)\n",
      "長庚大學醫學系(繁星第八類)\n",
      "長庚大學電子工程學系\n",
      "長庚大學電子工程學系\n",
      "長庚大學電機工程學系\n",
      "長庚大學電機工程學系\n"
     ]
    }
   ],
   "source": [
    "%cd C:\\Users\\User\\Desktop\\backup\\brt\\Projects\\Crawing-List-of-Admitted-Schools-for-Students\\data\\department\\\n",
    "\n",
    "for file in glob.iglob('*交叉查榜*.html'):\n",
    "    # print(file)\n",
    "    processing_department(file)"
   ]
  },
  {
   "cell_type": "code",
   "execution_count": 58,
   "metadata": {},
   "outputs": [],
   "source": [
    "def processing_department(filename):\n",
    "    \n",
    "    with open(filename, 'r', encoding=\"utf-8\") as file:\n",
    "        html = file.read()\n",
    "        # print(html)\n",
    "        soup = BeautifulSoup(html, 'html.parser')\n",
    "    \n",
    "    fields = ['exam_location', 'univ',  'year', 'location_link']\n",
    "    df = pd.DataFrame(columns=fields)\n",
    "    df1 = pd.DataFrame(columns=fields)\n",
    "    df2 = pd.DataFrame(columns=fields)\n",
    "\n",
    "    str = soup.head.find_all('title')[0].text\n",
    "    pos = str.find('年')\n",
    "    year = str[pos-3:pos]  # str[5:8] str[5], str[6], str[7]\n",
    "\n",
    "    str = soup.head.find_all('title')[0].text\n",
    "    pos = str.find('-')\n",
    "    univ = str[:pos].rstrip()\n",
    "\n",
    "    dark_list = soup.body.find_all(bgcolor=\"#DEDEDC\") # 褐色\n",
    "    df1 = processing_list(univ, year, dark_list, df)\n",
    "    # print(df1)\n",
    "    \n",
    "    white_list = soup.body.find_all(bgcolor=\"#FFFFFF\") # 白色\n",
    "    df2 = processing_list(univ, year, white_list, df)\n",
    "    # print(df2)\n",
    "    \n",
    "    # craw more data\n",
    "    \n",
    "    # make two df cross-interleave\n",
    "    max_len = max(len(df1), len(df2))\n",
    "    for i in range(max_len):\n",
    "        if i < len(df1):\n",
    "            df = pd.concat([df, df1.iloc[[i]]], ignore_index=True)\n",
    "        if i < len(df2):\n",
    "            df = pd.concat([df, df2.iloc[[i]]], ignore_index=True)\n",
    "\n",
    "    result_dir = Path(r\"C:\\Users\\User\\Desktop\\backup\\brt\\Projects\\Crawing-List-of-Admitted-Schools-for-Students\\result\\location\",f'{univ}.csv')\n",
    "    df.to_csv(path_or_buf = result_dir, encoding='utf-8-sig', index=False)"
   ]
  },
  {
   "cell_type": "code",
   "execution_count": 57,
   "metadata": {},
   "outputs": [],
   "source": [
    "def processing_list(univ, year, list, df):\n",
    "    print(univ)\n",
    "    # print(list) # html\n",
    "    #print(df)\n",
    "    for dark_item in list:\n",
    "        \n",
    "        x = dark_item.find_all('a')\n",
    "        # for i in x:\n",
    "            # print(\"x:\", i)\n",
    "        # print(x[0].text[6:]) # 大學\n",
    "        exam_location = x[0].text[6:] \n",
    "        try:\n",
    "            location_link = x[0].get(\"href\") # 校系名稱\n",
    "        except IndexError:\n",
    "            location_link = \"None\"\n",
    "        #ptr_df = ptr_df + 1\n",
    "    \n",
    "        dict = {'exam_location': exam_location, 'univ': univ, 'year': year, 'location_link': location_link}\n",
    "        df = pd.concat([df, pd.DataFrame([dict])], ignore_index = True)\n",
    "    \n",
    "    return df"
   ]
  },
  {
   "cell_type": "code",
   "execution_count": 60,
   "metadata": {},
   "outputs": [
    {
     "name": "stdout",
     "output_type": "stream",
     "text": [
      "C:\\Users\\User\\Desktop\\backup\\brt\\Projects\\Crawing-List-of-Admitted-Schools-for-Students\\result\\location\n"
     ]
    }
   ],
   "source": [
    "%cd C:\\Users\\User\\Desktop\\backup\\brt\\Projects\\Crawing-List-of-Admitted-Schools-for-Students\\result\\location\n",
    "\n",
    "fields = ['exam_location', 'univ',  'year', 'location_link']\n",
    "df__ = pd.DataFrame(columns=fields) \n",
    "\n",
    "for file in glob.iglob('*長庚大學*.csv'):\n",
    "    df = pd.read_csv(file)\n",
    "    df__ = pd.concat([df__, df], ignore_index=True)\n",
    "\n",
    "result_dir = Path(r\"C:\\Users\\User\\Desktop\\backup\\brt\\Projects\\Crawing-List-of-Admitted-Schools-for-Students\\result\\location\",'whole.csv')\n",
    "df__.to_csv(path_or_buf = result_dir, encoding='utf-8-sig', index=False)"
   ]
  }
 ],
 "metadata": {
  "kernelspec": {
   "display_name": "venv",
   "language": "python",
   "name": "python3"
  },
  "language_info": {
   "codemirror_mode": {
    "name": "ipython",
    "version": 3
   },
   "file_extension": ".py",
   "mimetype": "text/x-python",
   "name": "python",
   "nbconvert_exporter": "python",
   "pygments_lexer": "ipython3",
   "version": "3.8.0"
  },
  "orig_nbformat": 4
 },
 "nbformat": 4,
 "nbformat_minor": 2
}
